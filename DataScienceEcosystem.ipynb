{
 "cells": [
  {
   "cell_type": "markdown",
   "id": "bb5dca81-7da9-4394-a1be-3028ab34d836",
   "metadata": {},
   "source": [
    "# Data Science Tools and Ecosystem"
   ]
  },
  {
   "cell_type": "markdown",
   "id": "dc24adec-6b52-4adc-9b6f-b69fc5f0dc2f",
   "metadata": {},
   "source": [
    "In this notebook, Data Science Tools and Ecosystem are summarized.<br>\n",
    "It is important to get familiarized with the data science tools and the ecosystem for beginners"
   ]
  },
  {
   "cell_type": "markdown",
   "id": "6e4841cc-04ec-4dab-bfd6-b0a4268b7776",
   "metadata": {},
   "source": [
    "Some of the popular data science languages are:<br>\n",
    "1. Python\n",
    "2. R\n",
    "3. Julia\n",
    "4. SQL\n",
    "5. Java\n",
    "6. Scala"
   ]
  },
  {
   "cell_type": "markdown",
   "id": "1a1df12c-ba52-4caa-8c48-9e16702fc069",
   "metadata": {},
   "source": [
    "Some commonly used data science libraries include:<br>\n",
    "1. Pandas\n",
    "2. NumPy\n",
    "3. Matplotlib\n",
    "4. Keras\n",
    "5. Scikit-learn\n",
    "6. PyTorch"
   ]
  },
  {
   "cell_type": "markdown",
   "id": "72e762d6-564d-4046-8a84-cd940a57f458",
   "metadata": {},
   "source": [
    "Data Science Tools |\n",
    "------------------\n",
    "Jupyter |\n",
    "R Studio |\n",
    "Spyder |"
   ]
  },
  {
   "cell_type": "markdown",
   "id": "3bc6247f-76a4-4537-a6b2-4713567a1ef6",
   "metadata": {},
   "source": [
    "### Evaluating arithmetic expressions using python"
   ]
  },
  {
   "cell_type": "code",
   "execution_count": 1,
   "id": "2ba30126-d7c7-4008-bf60-cbe82f625829",
   "metadata": {
    "tags": []
   },
   "outputs": [
    {
     "data": {
      "text/plain": [
       "17"
      ]
     },
     "execution_count": 1,
     "metadata": {},
     "output_type": "execute_result"
    }
   ],
   "source": [
    "# This a simple arithmetic expression to mutiply then add integers\n",
    "(3 * 4) + 5"
   ]
  },
  {
   "cell_type": "code",
   "execution_count": 6,
   "id": "922ab691-b145-40aa-b4e7-03bc30063ff9",
   "metadata": {
    "tags": []
   },
   "outputs": [
    {
     "name": "stdout",
     "output_type": "stream",
     "text": [
      "200 minutes is 3.3333333333333335 hours\n"
     ]
    }
   ],
   "source": [
    "# This will convert 200 minutes to hours by diving by 60\n",
    "hours = 200 / 60\n",
    "print(\"200 minutes is\", hours, \"hours\")"
   ]
  },
  {
   "cell_type": "markdown",
   "id": "6dc6418d-074c-49c8-aa53-77328e62201b",
   "metadata": {},
   "source": [
    "**Objectives:**\n",
    "- Popular data science languages\n",
    "- Widely used data science libraries\n",
    "- Open source data science development environments (data science tools)\n",
    "- Evaluating arithmetic expressions in python\n",
    "- Converting minutes to hours using python"
   ]
  },
  {
   "cell_type": "markdown",
   "id": "ccdbe29d-17db-4865-b847-0523703d1f6b",
   "metadata": {},
   "source": [
    "## Author\n",
    "Vedant Mehrotra"
   ]
  },
  {
   "cell_type": "code",
   "execution_count": null,
   "id": "c4c01840-97c8-4d18-8b09-ba64c776a7af",
   "metadata": {},
   "outputs": [],
   "source": []
  }
 ],
 "metadata": {
  "kernelspec": {
   "display_name": "Python",
   "language": "python",
   "name": "conda-env-python-py"
  },
  "language_info": {
   "codemirror_mode": {
    "name": "ipython",
    "version": 3
   },
   "file_extension": ".py",
   "mimetype": "text/x-python",
   "name": "python",
   "nbconvert_exporter": "python",
   "pygments_lexer": "ipython3",
   "version": "3.7.12"
  }
 },
 "nbformat": 4,
 "nbformat_minor": 5
}
